{
 "cells": [
  {
   "cell_type": "code",
   "execution_count": 1,
   "id": "0c8475b3",
   "metadata": {},
   "outputs": [],
   "source": [
    "from utils.make_prompt import collect_prompt"
   ]
  },
  {
   "cell_type": "code",
   "execution_count": 2,
   "id": "a0a99223",
   "metadata": {},
   "outputs": [
    {
     "data": {
      "text/plain": [
       "'/Users/yeonjoon-mac/Desktop/Workspace/code-diagram'"
      ]
     },
     "execution_count": 2,
     "metadata": {},
     "output_type": "execute_result"
    }
   ],
   "source": [
    "import os\n",
    "\n",
    "os.getcwd()"
   ]
  },
  {
   "cell_type": "code",
   "execution_count": 3,
   "id": "d38d2bb6",
   "metadata": {},
   "outputs": [],
   "source": [
    "root_dir = os.getcwd()\n",
    "target_path = os.path.join(root_dir, \"poc\")\n",
    "\n",
    "output_path = os.path.join(root_dir, \"output.txt\")\n"
   ]
  },
  {
   "cell_type": "code",
   "execution_count": 4,
   "id": "7cabd5f0",
   "metadata": {},
   "outputs": [
    {
     "name": "stdout",
     "output_type": "stream",
     "text": [
      "Prompt saved to /Users/yeonjoon-mac/Desktop/Workspace/code-diagram/output.txt\n"
     ]
    }
   ],
   "source": [
    "collect_prompt(\n",
    "    root_dir=target_path,\n",
    "    out_path=output_path,\n",
    ")"
   ]
  },
  {
   "cell_type": "code",
   "execution_count": 5,
   "id": "6914b1e9",
   "metadata": {},
   "outputs": [
    {
     "data": {
      "text/plain": [
       "AIMessage(content='Hello! How can I assist you today?', additional_kwargs={'refusal': None}, response_metadata={'token_usage': {'completion_tokens': 10, 'prompt_tokens': 11, 'total_tokens': 21, 'completion_tokens_details': {'accepted_prediction_tokens': 0, 'audio_tokens': 0, 'reasoning_tokens': 0, 'rejected_prediction_tokens': 0}, 'prompt_tokens_details': {'audio_tokens': 0, 'cached_tokens': 0}}, 'model_name': 'gpt-3.5-turbo-0125', 'system_fingerprint': None, 'id': 'chatcmpl-BRdIQPv1A4ps0F13uTOtShgN3tBIK', 'finish_reason': 'stop', 'logprobs': None}, id='run-b549bee6-cc25-4247-ba4a-e23d0e5e85de-0', usage_metadata={'input_tokens': 11, 'output_tokens': 10, 'total_tokens': 21, 'input_token_details': {'audio': 0, 'cache_read': 0}, 'output_token_details': {'audio': 0, 'reasoning': 0}})"
      ]
     },
     "execution_count": 5,
     "metadata": {},
     "output_type": "execute_result"
    }
   ],
   "source": [
    "# Check for langsmith\n",
    "\n",
    "from langchain_openai import ChatOpenAI\n",
    "\n",
    "llm = ChatOpenAI()\n",
    "llm.invoke(\"Hello, world!\")"
   ]
  },
  {
   "cell_type": "code",
   "execution_count": null,
   "id": "81fa970c",
   "metadata": {},
   "outputs": [],
   "source": [
    "llm = ChatOpenAI(\n",
    "    model=\"o4-mini-2025-04-16\",\n",
    "    reasoning_effort=\"medium\",\n",
    ")\n",
    "\n",
    "from langchain_core.prompts import ChatPromptTemplate, HumanMessagePromptTemplate\n",
    "\n",
    "collect_prompt = \"\"\n",
    "with open(\"output.txt\", \"r\") as f:\n",
    "    collect_prompt = f.read()\n",
    "\n",
    "chat_prompt = ChatPromptTemplate.from_messages(\n",
    "    [\n",
    "        HumanMessagePromptTemplate.from_template(\n",
    "            \"\"\"\n",
    "                You are a software engineering expert. You are given a directory structure and codes.\n",
    "                Please generate a flowchart in mermaid format based on the directory structure and codes.\n",
    "                \n",
    "                INPUT:\n",
    "                Directory structure and codes:\n",
    "                {collect_prompt}\n",
    "                \n",
    "                OUTPUT:\n",
    "                - Output should be in mermaid format.\n",
    "                example>\n",
    "                    ```mermaid\n",
    "                    flowchart TD\n",
    "                        %% 노드 정의\n",
    "                        Start[\"Start main\"]\n",
    "                        A[\"nodeA\"]\n",
    "                        B[\"nodeB\"]\n",
    "                        C[\"nodeC\"]\n",
    "                        D[\"nodeD\"]\n",
    "                        Ex[\"nodeException\"]\n",
    "                        End[\"End main\"]\n",
    "\n",
    "                        %% 정상 흐름\n",
    "                        Start --> A\n",
    "                        A --> B\n",
    "                        B --> C\n",
    "                        C --> D\n",
    "                        D --> End\n",
    "\n",
    "                        %% 예외 흐름\n",
    "                        A -- throws --> Ex\n",
    "                        B -- throws --> Ex\n",
    "                        C -- throws --> Ex\n",
    "                        D -- throws --> Ex\n",
    "                        Ex --> End\n",
    "                    ```\n",
    "            \"\"\"),\n",
    "    ]\n",
    ")\n",
    "\n",
    "messages = chat_prompt.format_messages(collect_prompt=collect_prompt)\n",
    "\n",
    "response = llm.invoke(messages)"
   ]
  },
  {
   "cell_type": "code",
   "execution_count": 7,
   "id": "bf1af4b1",
   "metadata": {},
   "outputs": [
    {
     "name": "stdout",
     "output_type": "stream",
     "text": [
      "```mermaid\n",
      "flowchart TD\n",
      "    %% 노드 정의\n",
      "    Start[\"Start main\"]\n",
      "    A[\"fetch_data()\"]\n",
      "    B[\"process_data(data)\"]\n",
      "    C[\"analyze_data(processed)\"]\n",
      "    D[\"generate_report(analysis)\"]\n",
      "    Ex[\"Error in workflow\"]\n",
      "    End[\"End main\"]\n",
      "\n",
      "    %% 정상 흐름\n",
      "    Start --> A\n",
      "    A --> B\n",
      "    B --> C\n",
      "    C --> D\n",
      "    D --> End\n",
      "\n",
      "    %% 예외 흐름\n",
      "    A -- throws --> Ex\n",
      "    B -- throws --> Ex\n",
      "    C -- throws --> Ex\n",
      "    D -- throws --> Ex\n",
      "    Ex --> End\n",
      "```\n"
     ]
    }
   ],
   "source": [
    "print(response.content)"
   ]
  },
  {
   "cell_type": "code",
   "execution_count": 8,
   "id": "b5adbb1b",
   "metadata": {},
   "outputs": [
    {
     "name": "stdout",
     "output_type": "stream",
     "text": [
      "flowchart TD\n",
      "    %% 노드 정의\n",
      "    Start[\"Start main\"]\n",
      "    A[\"fetch_data()\"]\n",
      "    B[\"process_data(data)\"]\n",
      "    C[\"analyze_data(processed)\"]\n",
      "    D[\"generate_report(analysis)\"]\n",
      "    Ex[\"Error in workflow\"]\n",
      "    End[\"End main\"]\n",
      "\n",
      "    %% 정상 흐름\n",
      "    Start --> A\n",
      "    A --> B\n",
      "    B --> C\n",
      "    C --> D\n",
      "    D --> End\n",
      "\n",
      "    %% 예외 흐름\n",
      "    A -- throws --> Ex\n",
      "    B -- throws --> Ex\n",
      "    C -- throws --> Ex\n",
      "    D -- throws --> Ex\n",
      "    Ex --> End\n"
     ]
    }
   ],
   "source": [
    "pure_mermaid_code = response.content.split(\"```mermaid\")[1].split(\"```\")[0].strip()\n",
    "print(pure_mermaid_code)"
   ]
  },
  {
   "cell_type": "code",
   "execution_count": 9,
   "id": "2d6499af",
   "metadata": {},
   "outputs": [
    {
     "data": {
      "image/png": "[encoded data removed]",
      "text/plain": [
       "<Figure size 640x480 with 1 Axes>"
      ]
     },
     "metadata": {},
     "output_type": "display_data"
    }
   ],
   "source": [
    "import base64\n",
    "import io, requests\n",
    "from IPython.display import Image, display\n",
    "from PIL import Image as im\n",
    "import matplotlib.pyplot as plt\n",
    "\n",
    "def mm(graph):\n",
    "    graphbytes = graph.encode(\"utf8\")\n",
    "    base64_bytes = base64.urlsafe_b64encode(graphbytes)\n",
    "    base64_string = base64_bytes.decode(\"ascii\")\n",
    "    img = im.open(io.BytesIO(requests.get('https://mermaid.ink/img/' + base64_string).content))\n",
    "    plt.imshow(img)\n",
    "    plt.axis('off') # allow to hide axis\n",
    "    plt.savefig('image.png', dpi=1200)\n",
    "\n",
    "mm(pure_mermaid_code)"
   ]
  },
  {
   "cell_type": "code",
   "execution_count": 9,
   "id": "4f9ebbc8",
   "metadata": {},
   "outputs": [
    {
     "name": "stdout",
     "output_type": "stream",
     "text": [
      "{\n",
      "    \"nodes\": [\n",
      "        {\n",
      "            \"id\": \"n0\",\n",
      "            \"file\": \"poc/main.py\",\n",
      "            \"line_start\": 1,\n",
      "            \"line_end\": 17,\n",
      "            \"label\": \"main\"\n",
      "        },\n",
      "        {\n",
      "            \"id\": \"n1\",\n",
      "            \"file\": \"poc/fetcher.py\",\n",
      "            \"line_start\": 1,\n",
      "            \"line_end\": 13,\n",
      "            \"label\": \"fetch_data\"\n",
      "        },\n",
      "        {\n",
      "            \"id\": \"n2\",\n",
      "            \"file\": \"poc/processor.py\",\n",
      "            \"line_start\": 1,\n",
      "            \"line_end\": 16,\n",
      "            \"label\": \"process_data\"\n",
      "        }\n",
      "    ],\n",
      "    \"edges\": [\n",
      "        {\n",
      "            \"id\": \"e0\",\n",
      "            \"source\": \"n0\",\n",
      "            \"target\": \"n1\",\n",
      "            \"type\": \"call\"\n",
      "        },\n",
      "        {\n",
      "            \"id\": \"e1\",\n",
      "            \"source\": \"n0\",\n",
      "            \"target\": \"n2\",\n",
      "            \"type\": \"call\"\n",
      "        }\n",
      "    ]\n",
      "}\n"
     ]
    }
   ],
   "source": [
    "with open(\"diagram_example.json\", \"r\") as f:\n",
    "    diagram_example = f.read()\n",
    "\n",
    "print(diagram_example)"
   ]
  }
 ],
 "metadata": {
  "kernelspec": {
   "display_name": "code-diagram",
   "language": "python",
   "name": "python3"
  },
  "language_info": {
   "codemirror_mode": {
    "name": "ipython",
    "version": 3
   },
   "file_extension": ".py",
   "mimetype": "text/x-python",
   "name": "python",
   "nbconvert_exporter": "python",
   "pygments_lexer": "ipython3",
   "version": "3.13.2"
  }
 },
 "nbformat": 4,
 "nbformat_minor": 5
}
