{
 "cells": [
  {
   "cell_type": "code",
   "execution_count": 1,
   "id": "0c8475b3",
   "metadata": {},
   "outputs": [],
   "source": [
    "from utils.make_prompt import collect_prompt"
   ]
  },
  {
   "cell_type": "code",
   "execution_count": 2,
   "id": "a0a99223",
   "metadata": {},
   "outputs": [
    {
     "data": {
      "text/plain": [
       "'/Users/yeonjoon-mac/Desktop/Workspace/code-diagram'"
      ]
     },
     "execution_count": 2,
     "metadata": {},
     "output_type": "execute_result"
    }
   ],
   "source": [
    "import os\n",
    "\n",
    "os.getcwd()"
   ]
  },
  {
   "cell_type": "code",
   "execution_count": 3,
   "id": "d38d2bb6",
   "metadata": {},
   "outputs": [],
   "source": [
    "root_dir = os.getcwd()\n",
    "target_path = os.path.join(root_dir, \"poc\")\n",
    "\n",
    "output_path = os.path.join(root_dir, \"output.txt\")\n"
   ]
  },
  {
   "cell_type": "code",
   "execution_count": 4,
   "id": "7cabd5f0",
   "metadata": {},
   "outputs": [
    {
     "name": "stdout",
     "output_type": "stream",
     "text": [
      "Prompt saved to /Users/yeonjoon-mac/Desktop/Workspace/code-diagram/output.txt\n"
     ]
    }
   ],
   "source": [
    "collect_prompt(\n",
    "    root_dir=target_path,\n",
    "    out_path=output_path,\n",
    ")"
   ]
  },
  {
   "cell_type": "code",
   "execution_count": 5,
   "id": "6914b1e9",
   "metadata": {},
   "outputs": [
    {
     "data": {
      "text/plain": [
       "AIMessage(content='Hello! How can I assist you today?', additional_kwargs={'refusal': None}, response_metadata={'token_usage': {'completion_tokens': 10, 'prompt_tokens': 11, 'total_tokens': 21, 'completion_tokens_details': {'accepted_prediction_tokens': 0, 'audio_tokens': 0, 'reasoning_tokens': 0, 'rejected_prediction_tokens': 0}, 'prompt_tokens_details': {'audio_tokens': 0, 'cached_tokens': 0}}, 'model_name': 'gpt-3.5-turbo-0125', 'system_fingerprint': None, 'id': 'chatcmpl-BRaW4nbeQvjyydwymrAnrSRFaUXgj', 'finish_reason': 'stop', 'logprobs': None}, id='run-4cc05a07-60a6-437c-bf0c-55f114db21dd-0', usage_metadata={'input_tokens': 11, 'output_tokens': 10, 'total_tokens': 21, 'input_token_details': {'audio': 0, 'cache_read': 0}, 'output_token_details': {'audio': 0, 'reasoning': 0}})"
      ]
     },
     "execution_count": 5,
     "metadata": {},
     "output_type": "execute_result"
    }
   ],
   "source": [
    "# Check for langsmith\n",
    "\n",
    "from langchain_openai import ChatOpenAI\n",
    "\n",
    "llm = ChatOpenAI()\n",
    "llm.invoke(\"Hello, world!\")"
   ]
  },
  {
   "cell_type": "code",
   "execution_count": 6,
   "id": "81fa970c",
   "metadata": {},
   "outputs": [],
   "source": [
    "llm = ChatOpenAI(\n",
    "    model=\"o4-mini-2025-04-16\",\n",
    "    reasoning_effort=\"medium\",\n",
    ")\n",
    "\n",
    "from langchain_core.prompts import ChatPromptTemplate, HumanMessagePromptTemplate\n",
    "\n",
    "collect_prompt = \"\"\n",
    "with open(\"output.txt\", \"r\") as f:\n",
    "    collect_prompt = f.read()\n",
    "\n",
    "chat_prompt = ChatPromptTemplate.from_messages(\n",
    "    [\n",
    "        HumanMessagePromptTemplate.from_template(\n",
    "            \"\"\"\n",
    "                I am working on a software system with the following directory structure, and codes.\n",
    "                Please analyze the code and provide a control flow graph of the main function.\n",
    "                \n",
    "                {collect_prompt}\n",
    "                \n",
    "                Output the graph in mermaid format, please follow below example.\n",
    "                example>\n",
    "                    ```mermaid\n",
    "                    flowchart TD\n",
    "                        %% 노드 정의\n",
    "                        Start[\"Start main\"]\n",
    "                        A[\"fetch_data\"]\n",
    "                        B[\"process_data(data)\"]\n",
    "                        C[\"analyze_data(processed)\"]\n",
    "                        D[\"generate_report(analysis)\"]\n",
    "                        Ex[\"Error in workflow\"]\n",
    "                        End[\"End main\"]\n",
    "\n",
    "                        %% 정상 흐름\n",
    "                        Start --> A\n",
    "                        A --> B\n",
    "                        B --> C\n",
    "                        C --> D\n",
    "                        D --> End\n",
    "\n",
    "                        %% 예외 흐름\n",
    "                        A -- throws --> Ex\n",
    "                        B -- throws --> Ex\n",
    "                        C -- throws --> Ex\n",
    "                        D -- throws --> Ex\n",
    "                        Ex --> End\n",
    "                    ```\n",
    "                \n",
    "            \"\"\"),\n",
    "    ]\n",
    ")\n",
    "\n",
    "messages = chat_prompt.format_messages(collect_prompt=collect_prompt)\n",
    "\n",
    "response = llm.invoke(messages)"
   ]
  },
  {
   "cell_type": "code",
   "execution_count": 7,
   "id": "bf1af4b1",
   "metadata": {},
   "outputs": [
    {
     "name": "stdout",
     "output_type": "stream",
     "text": [
      "```mermaid\n",
      "flowchart TD\n",
      "    %% 노드 정의\n",
      "    Start[\"Start main\"]\n",
      "    A[\"fetch_data()\"]\n",
      "    B[\"process_data(data)\"]\n",
      "    C[\"analyze_data(processed)\"]\n",
      "    D[\"generate_report(analysis)\"]\n",
      "    Ex[\"Error in workflow\"]\n",
      "    End[\"End main\"]\n",
      "\n",
      "    %% 정상 흐름\n",
      "    Start --> A\n",
      "    A --> B\n",
      "    B --> C\n",
      "    C --> D\n",
      "    D --> End\n",
      "\n",
      "    %% 예외 흐름\n",
      "    A -- throws --> Ex\n",
      "    B -- throws --> Ex\n",
      "    C -- throws --> Ex\n",
      "    D -- throws --> Ex\n",
      "    Ex --> End\n",
      "```\n"
     ]
    }
   ],
   "source": [
    "print(response.content)"
   ]
  },
  {
   "cell_type": "code",
   "execution_count": 16,
   "id": "b5adbb1b",
   "metadata": {},
   "outputs": [
    {
     "name": "stdout",
     "output_type": "stream",
     "text": [
      "flowchart TD\n",
      "    %% 노드 정의\n",
      "    Start[\"Start main\"]\n",
      "    A[\"fetch_data()\"]\n",
      "    B[\"process_data(data)\"]\n",
      "    C[\"analyze_data(processed)\"]\n",
      "    D[\"generate_report(analysis)\"]\n",
      "    Ex[\"Error in workflow\"]\n",
      "    End[\"End main\"]\n",
      "\n",
      "    %% 정상 흐름\n",
      "    Start --> A\n",
      "    A --> B\n",
      "    B --> C\n",
      "    C --> D\n",
      "    D --> End\n",
      "\n",
      "    %% 예외 흐름\n",
      "    A -- throws --> Ex\n",
      "    B -- throws --> Ex\n",
      "    C -- throws --> Ex\n",
      "    D -- throws --> Ex\n",
      "    Ex --> End\n"
     ]
    }
   ],
   "source": [
    "pure_mermaid_code = response.content.split(\"```mermaid\")[1].split(\"```\")[0].strip()\n",
    "print(pure_mermaid_code)"
   ]
  },
  {
   "cell_type": "code",
   "execution_count": null,
   "id": "2d6499af",
   "metadata": {},
   "outputs": [
    {
     "data": {
      "image/png": "[encoded data removed]",
      "text/plain": [
       "<Figure size 640x480 with 1 Axes>"
      ]
     },
     "metadata": {},
     "output_type": "display_data"
    }
   ],
   "source": [
    "import base64\n",
    "import io, requests\n",
    "from IPython.display import Image, display\n",
    "from PIL import Image as im\n",
    "import matplotlib.pyplot as plt\n",
    "\n",
    "def mm(graph):\n",
    "    graphbytes = graph.encode(\"utf8\")\n",
    "    base64_bytes = base64.urlsafe_b64encode(graphbytes)\n",
    "    base64_string = base64_bytes.decode(\"ascii\")\n",
    "    img = im.open(io.BytesIO(requests.get('https://mermaid.ink/img/' + base64_string).content))\n",
    "    plt.imshow(img)\n",
    "    plt.axis('off') # allow to hide axis\n",
    "    plt.savefig('image.png', dpi=1200)\n",
    "\n",
    "mm(pure_mermaid_code)"
   ]
  }
 ],
 "metadata": {
  "kernelspec": {
   "display_name": "code-diagram",
   "language": "python",
   "name": "python3"
  },
  "language_info": {
   "codemirror_mode": {
    "name": "ipython",
    "version": 3
   },
   "file_extension": ".py",
   "mimetype": "text/x-python",
   "name": "python",
   "nbconvert_exporter": "python",
   "pygments_lexer": "ipython3",
   "version": "3.13.2"
  }
 },
 "nbformat": 4,
 "nbformat_minor": 5
}
