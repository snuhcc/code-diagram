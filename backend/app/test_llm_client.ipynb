{
 "cells": [
  {
   "cell_type": "markdown",
   "id": "2208b03f",
   "metadata": {},
   "source": [
    "# LLM Client 테스트 노트북\n",
    "이 노트북에서는 backend/app/llm/client.py의 control flow graph 생성 함수를 테스트합니다."
   ]
  },
  {
   "cell_type": "code",
   "execution_count": 2,
   "id": "0c55108e",
   "metadata": {},
   "outputs": [
    {
     "name": "stdout",
     "output_type": "stream",
     "text": [
      "Building repository tree for: /Users/yeonjoon-mac/Desktop/Workspace/code-diagram/study_1\n",
      "Yeonjoon\n",
      "Yeonjoon\n",
      "Yeonjoon\n",
      "Yeonjoon\n",
      "Yeonjoon\n",
      "study_1\n",
      "└── face_classification\n",
      "    ├── utils\n",
      "    │   ├── datasets.py\n",
      "    │   ├── grad_cam.py\n",
      "    │   ├── inference.py\n",
      "    │   ├── preprocessor.py\n",
      "    │   └── visualizer.py\n",
      "    ├── web\n",
      "    │   └── faces.py\n",
      "    ├── image_emotion_gender_demo.py\n",
      "    ├── image_gradcam_demo.py\n",
      "    ├── train_emotion_classifier.py\n",
      "    ├── train_gender_classifier.py\n",
      "    ├── video_emotion_color_demo.py\n",
      "    ├── video_emotion_gender_demo.py\n",
      "    └── video_gradcam_demo.py\n"
     ]
    }
   ],
   "source": [
    "from llm.prompt_util import build_repo_tree\n",
    "from pathlib import Path\n",
    "\n",
    "root_path = \"/Users/yeonjoon-mac/Desktop/Workspace/code-diagram/study_1\"\n",
    "root_dir = Path(root_path)\n",
    "\n",
    "print(f\"Building repository tree for: {root_dir}\")\n",
    "\n",
    "repo_tree = build_repo_tree(root_dir)\n",
    "print(repo_tree)"
   ]
  },
  {
   "cell_type": "code",
   "execution_count": 1,
   "id": "3247dd37",
   "metadata": {},
   "outputs": [
    {
     "ename": "ImportError",
     "evalue": "cannot import name 'client' from 'llm' (/Users/yeonjoon-mac/Desktop/Workspace/code-diagram/backend/app/llm/__init__.py)",
     "output_type": "error",
     "traceback": [
      "\u001b[31m---------------------------------------------------------------------------\u001b[39m",
      "\u001b[31mImportError\u001b[39m                               Traceback (most recent call last)",
      "\u001b[36mCell\u001b[39m\u001b[36m \u001b[39m\u001b[32mIn[1]\u001b[39m\u001b[32m, line 3\u001b[39m\n\u001b[32m      1\u001b[39m \u001b[38;5;28;01mimport\u001b[39;00m\u001b[38;5;250m \u001b[39m\u001b[34;01msys\u001b[39;00m\n\u001b[32m      2\u001b[39m \u001b[38;5;28;01mimport\u001b[39;00m\u001b[38;5;250m \u001b[39m\u001b[34;01mos\u001b[39;00m\n\u001b[32m----> \u001b[39m\u001b[32m3\u001b[39m \u001b[38;5;28;01mfrom\u001b[39;00m\u001b[38;5;250m \u001b[39m\u001b[34;01mllm\u001b[39;00m\u001b[38;5;250m \u001b[39m\u001b[38;5;28;01mimport\u001b[39;00m client\n\u001b[32m      4\u001b[39m \u001b[38;5;28;01mimport\u001b[39;00m\u001b[38;5;250m \u001b[39m\u001b[34;01masyncio\u001b[39;00m\n",
      "\u001b[31mImportError\u001b[39m: cannot import name 'client' from 'llm' (/Users/yeonjoon-mac/Desktop/Workspace/code-diagram/backend/app/llm/__init__.py)"
     ]
    }
   ],
   "source": [
    "import sys\n",
    "import os\n",
    "from llm import client\n",
    "import asyncio"
   ]
  },
  {
   "cell_type": "markdown",
   "id": "5f30a70a",
   "metadata": {},
   "source": [
    "## 테스트할 디렉토리와 파일 타입 지정"
   ]
  },
  {
   "cell_type": "code",
   "execution_count": null,
   "id": "2ddc885d",
   "metadata": {},
   "outputs": [],
   "source": [
    "test_dir = \"/Users/yeonjoon-mac/Desktop/Workspace/code-diagram/poc\"\n",
    "test2_dir = \"/Users/yeonjoon-mac/Desktop/Workspace/code-diagram/face_classification\"\n",
    "file_type = \"py\"  # 파이썬 파일만"
   ]
  },
  {
   "cell_type": "markdown",
   "id": "b76ba98a",
   "metadata": {},
   "source": [
    "## 디렉토리 내 모든 파일에 대해 CFG 생성 (비동기 실행)"
   ]
  },
  {
   "cell_type": "code",
   "execution_count": null,
   "id": "6a9a1cee",
   "metadata": {},
   "outputs": [],
   "source": [
    "# Jupyter 환경에서는 이미 이벤트 루프가 실행 중이므로 nest_asyncio를 사용하거나, 아래와 같이 실행합니다.\n",
    "import nest_asyncio\n",
    "nest_asyncio.apply()\n",
    "\n",
    "# results = await client.generate_control_flow_graphs_for_directory(test_dir, file_type)\n",
    "# results"
   ]
  },
  {
   "cell_type": "code",
   "execution_count": null,
   "id": "6d7f419d",
   "metadata": {},
   "outputs": [],
   "source": [
    "results = await client.generate_control_flow_graphs_for_directory(test2_dir, file_type)\n",
    "results"
   ]
  },
  {
   "cell_type": "markdown",
   "id": "8825c1a6",
   "metadata": {},
   "source": [
    "## 결과 확인 및 파일별 출력"
   ]
  },
  {
   "cell_type": "code",
   "execution_count": null,
   "id": "62bfb070",
   "metadata": {},
   "outputs": [],
   "source": [
    "for file, result in results.items():\n",
    "    print(f\"\\n=== {file} ===\")\n",
    "    print(result)"
   ]
  }
 ],
 "metadata": {
  "kernelspec": {
   "display_name": "code-diagram",
   "language": "python",
   "name": "python3"
  },
  "language_info": {
   "codemirror_mode": {
    "name": "ipython",
    "version": 3
   },
   "file_extension": ".py",
   "mimetype": "text/x-python",
   "name": "python",
   "nbconvert_exporter": "python",
   "pygments_lexer": "ipython3",
   "version": "3.13.2"
  }
 },
 "nbformat": 4,
 "nbformat_minor": 5
}
